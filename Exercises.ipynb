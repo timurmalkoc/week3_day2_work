{
 "cells": [
  {
   "cell_type": "markdown",
   "metadata": {},
   "source": [
    "#### Exercise 1 - Class Inheritance"
   ]
  },
  {
   "cell_type": "markdown",
   "metadata": {},
   "source": [
    "Create an Employee class that sets an employee's first name, last name, job title, salary, and email. The Employee class should have a class attribute for the raise amount set to 5% (1.05). Create a method that will apply the raise to an employee's salary."
   ]
  },
  {
   "cell_type": "code",
   "execution_count": 29,
   "metadata": {},
   "outputs": [],
   "source": [
    "class Employee:\n",
    "    raise_amount = 1.05\n",
    "    def __init__(self, first_name, last_name, job_title, salary, email):\n",
    "        self.first_name = first_name\n",
    "        self.last_name = last_name\n",
    "        self.job_title = job_title\n",
    "        self.salary = salary\n",
    "        self.email = email\n",
    "        \n",
    "    def raise_salary(self):\n",
    "        self.salary *= self.raise_amount\n",
    "            "
   ]
  },
  {
   "cell_type": "markdown",
   "metadata": {},
   "source": [
    "Create two more classes that inherit from the Employee class. One for Sales and one for Development. Both of these classes will have the same attributes as the Employee.<br>\n",
    "- For the Sales employees, add a phone number attribute on instantiation using the super method. \n",
    "- Create a method on the Sales class that will Send a Follow Up Email. It should take in a customer name and \"send\" aka print a formatted email \"Dear *customer*, Thank you for your interest in our product. Please let me know if you have any questions. My email is *email* or my phone number is *phone number*. Thanks, *full name*\"\n",
    "- Create a method on the Development class called code that will print out \"*full name* is writing code\"."
   ]
  },
  {
   "cell_type": "code",
   "execution_count": 30,
   "metadata": {},
   "outputs": [],
   "source": [
    "class Sales(Employee):\n",
    "    def __init__(self, first_name, last_name, job_title, salary, email, phone):\n",
    "        super().__init__(first_name, last_name, job_title, salary, email)\n",
    "        self.phone = phone\n",
    "        \n",
    "        \n",
    "    def follow_up(self, customer):\n",
    "        print(f'Dear {customer}, \\nThank you for your interest in our product. \\nPlease let me know if you have any questions.'+ \n",
    "              f'My email is {self.email} or my phone number is {self.phone}. \\nThanks, \\n{self.first_name} {self.last_name}')\n",
    "        \n",
    "        \n",
    "class Development(Employee):\n",
    "    def __str__(self):\n",
    "        return f'{self.first_name} {self.last_name}'\n",
    "    \n",
    "    def code(self):\n",
    "        print(f'{self} is writing code')"
   ]
  },
  {
   "cell_type": "markdown",
   "metadata": {},
   "source": [
    "- Create an instance of a Sales Employee with a salary of $50,000.\n",
    "- Send follow up emails to \"Mike O'Neil\" and \"Hannah Stern\"\n",
    "- Give the employee a raise and print the salary"
   ]
  },
  {
   "cell_type": "code",
   "execution_count": 31,
   "metadata": {},
   "outputs": [
    {
     "name": "stdout",
     "output_type": "stream",
     "text": [
      "Dear Mike O'Neil, \n",
      "Thank you for your interest in our product. \n",
      "Please let me know if you have any questions.My email is abc@gmail.com or my phone number is 123 123 5678. \n",
      "Thanks, \n",
      "Jhon Cooper\n",
      "=================================\n",
      "Dear Hannah Stern, \n",
      "Thank you for your interest in our product. \n",
      "Please let me know if you have any questions.My email is abc@gmail.com or my phone number is 123 123 5678. \n",
      "Thanks, \n",
      "Jhon Cooper\n",
      "=================================\n",
      "Jhon Cooper's salary is $50000.00\n",
      "=================================\n",
      "After increment salary = $52500.00\n"
     ]
    }
   ],
   "source": [
    "sale_person = Sales(\"Jhon\",\"Cooper\",\"sales person\", 50000,\"abc@gmail.com\",\"123 123 5678\")\n",
    "sale_person.follow_up(\"Mike O'Neil\")\n",
    "print(\"=================================\")\n",
    "sale_person.follow_up(\"Hannah Stern\")\n",
    "print(\"=================================\")\n",
    "print(f\"{sale_person.first_name} {sale_person.last_name}'s salary is ${sale_person.salary:0.2f}\")\n",
    "print(\"=================================\")\n",
    "sale_person.raise_salary()\n",
    "print(f\"After increment salary = ${sale_person.salary:0.2f}\")"
   ]
  },
  {
   "cell_type": "markdown",
   "metadata": {},
   "source": [
    "- Create an instance of a Development Employee with a salary of $100,000\n",
    "- Write some code with this employee\n",
    "- Give the employee a raise and print the salary"
   ]
  },
  {
   "cell_type": "code",
   "execution_count": 32,
   "metadata": {},
   "outputs": [
    {
     "name": "stdout",
     "output_type": "stream",
     "text": [
      "Robert Jonson is writing code\n",
      "=================================\n",
      "Robert Jonson's salary is $100000.00\n",
      "=================================\n",
      "After increment salary = $105000.00\n"
     ]
    }
   ],
   "source": [
    "dev = Development(\"Robert\",\"Jonson\",\"devops\",100000,\"dev@gmail.com\")\n",
    "dev.code()\n",
    "print(\"=================================\")\n",
    "print(f\"{dev}'s salary is ${dev.salary:0.2f}\")\n",
    "print(\"=================================\")\n",
    "dev.raise_salary()\n",
    "print(f\"After increment salary = ${dev.salary:0.2f}\")"
   ]
  },
  {
   "cell_type": "markdown",
   "metadata": {},
   "source": [
    "#### Exercise 2 - Importing Modules"
   ]
  },
  {
   "cell_type": "markdown",
   "metadata": {},
   "source": [
    "In VS Code, create a module titled `geometry` and add two functions in there. One that will calculate the area of a circle given a radius. The second will find the hypotenuse of a right angle given the two sides. Import the module or the functions from the module and use it to find the answers to the below questions"
   ]
  },
  {
   "cell_type": "markdown",
   "metadata": {},
   "source": [
    "What is the area of a circle with a radius of 7cm?"
   ]
  },
  {
   "cell_type": "code",
   "execution_count": 33,
   "metadata": {},
   "outputs": [
    {
     "name": "stdout",
     "output_type": "stream",
     "text": [
      "Area of circle with radis 7 = 153.93804002589985\n"
     ]
    }
   ],
   "source": [
    "from geo import circle\n"
   ]
  },
  {
   "cell_type": "code",
   "execution_count": 35,
   "metadata": {},
   "outputs": [
    {
     "name": "stdout",
     "output_type": "stream",
     "text": [
      "Area of circle with radis 7 = 153.94\n",
      "Area of circle with radis 3 = 28.27\n"
     ]
    }
   ],
   "source": [
    "rad = 7\n",
    "print(f\"Area of circle with radis {rad} = {circle.circle_area(rad):.2f}\")\n",
    "\n",
    "rad = 3\n",
    "print(f\"Area of circle with radis {rad} = {circle.circle_area(rad):.2f}\")"
   ]
  },
  {
   "cell_type": "markdown",
   "metadata": {},
   "source": [
    "What is the hypotenuse of a right angle with sides of 3in and 4in?"
   ]
  },
  {
   "cell_type": "code",
   "execution_count": 37,
   "metadata": {},
   "outputs": [],
   "source": [
    "from geo import triangle"
   ]
  },
  {
   "cell_type": "code",
   "execution_count": 40,
   "metadata": {},
   "outputs": [
    {
     "name": "stdout",
     "output_type": "stream",
     "text": [
      "Area of triangle with width 3 height 4 = 5.00\n",
      "Area of triangle with width 12 height 5 = 13.00\n"
     ]
    }
   ],
   "source": [
    "x = 3\n",
    "y = 4\n",
    "print(f'Area of triangle with width {x} height {y} = {triangle.hypotenuse(x,y):.2f}')\n",
    "\n",
    "x = 12\n",
    "y = 5\n",
    "print(f'Area of triangle with width {x} height {y} = {triangle.hypotenuse(x,y):.2f}')"
   ]
  },
  {
   "cell_type": "code",
   "execution_count": null,
   "metadata": {},
   "outputs": [],
   "source": []
  }
 ],
 "metadata": {
  "kernelspec": {
   "display_name": "Python 3 (ipykernel)",
   "language": "python",
   "name": "python3"
  },
  "language_info": {
   "codemirror_mode": {
    "name": "ipython",
    "version": 3
   },
   "file_extension": ".py",
   "mimetype": "text/x-python",
   "name": "python",
   "nbconvert_exporter": "python",
   "pygments_lexer": "ipython3",
   "version": "3.9.12"
  }
 },
 "nbformat": 4,
 "nbformat_minor": 4
}
